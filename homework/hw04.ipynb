{
 "cells": [
  {
   "cell_type": "markdown",
   "id": "35f3b206-7ab0-48f4-bc6e-66481f5c2d10",
   "metadata": {},
   "source": [
    "### Importing all the necessary Libraries "
   ]
  },
  {
   "cell_type": "code",
   "execution_count": 1,
   "id": "79b92080-0f6e-46b2-9a5d-ffc2c994fc41",
   "metadata": {},
   "outputs": [],
   "source": [
    "import pyspark\n",
    "spark = pyspark.sql.SparkSession.builder.getOrCreate()\n",
    "sc = spark.sparkContext"
   ]
  },
  {
   "cell_type": "code",
   "execution_count": 2,
   "id": "ed46a486-cf10-4bde-badd-fdfeddbbb228",
   "metadata": {},
   "outputs": [],
   "source": [
    "from pyspark.sql import SparkSession\n",
    "spark = SparkSession.builder.getOrCreate()"
   ]
  },
  {
   "cell_type": "code",
   "execution_count": 3,
   "id": "89d00364-4322-4f30-a38f-aec246c0a52e",
   "metadata": {},
   "outputs": [],
   "source": [
    "from pyspark.sql.types import StructType,StructField, StringType, IntegerType, DateType, DoubleType, TimestampType"
   ]
  },
  {
   "cell_type": "code",
   "execution_count": 4,
   "id": "30171ce2-d8e6-4066-b2b6-4925e8153ed0",
   "metadata": {},
   "outputs": [],
   "source": [
    "from datetime import datetime"
   ]
  },
  {
   "cell_type": "code",
   "execution_count": 5,
   "id": "5db9d0e6-296f-44fc-ac70-6e5e96a35231",
   "metadata": {},
   "outputs": [],
   "source": [
    "from pyspark.sql.functions import *"
   ]
  },
  {
   "cell_type": "code",
   "execution_count": 6,
   "id": "74c87565-0269-44bd-b33b-1cff511196b5",
   "metadata": {},
   "outputs": [],
   "source": [
    "from pyspark.sql import functions as f"
   ]
  },
  {
   "cell_type": "code",
   "execution_count": 7,
   "id": "f3b47cbb-11ac-4eb8-92c5-b728d882dc41",
   "metadata": {},
   "outputs": [
    {
     "data": {
      "text/html": [
       "\n",
       "            <div>\n",
       "                <p><b>SparkSession - in-memory</b></p>\n",
       "                \n",
       "        <div>\n",
       "            <p><b>SparkContext</b></p>\n",
       "\n",
       "            <p><a href=\"http://3fb7a94cf5b8:4040\">Spark UI</a></p>\n",
       "\n",
       "            <dl>\n",
       "              <dt>Version</dt>\n",
       "                <dd><code>v3.2.1</code></dd>\n",
       "              <dt>Master</dt>\n",
       "                <dd><code>local[*]</code></dd>\n",
       "              <dt>AppName</dt>\n",
       "                <dd><code>pyspark-shell</code></dd>\n",
       "            </dl>\n",
       "        </div>\n",
       "        \n",
       "            </div>\n",
       "        "
      ],
      "text/plain": [
       "<pyspark.sql.session.SparkSession at 0xffff7e62ba30>"
      ]
     },
     "execution_count": 7,
     "metadata": {},
     "output_type": "execute_result"
    }
   ],
   "source": [
    "spark"
   ]
  },
  {
   "cell_type": "code",
   "execution_count": 8,
   "id": "f8dc967f-6890-48e2-8e58-5d8f5afa78b4",
   "metadata": {},
   "outputs": [],
   "source": [
    "!cp 'Part1_Crime_data.csv' crime.csv"
   ]
  },
  {
   "cell_type": "markdown",
   "id": "30f6a268-ca90-452c-b04a-e31beb59996a",
   "metadata": {},
   "source": [
    "## Specifying the schema\n"
   ]
  },
  {
   "cell_type": "code",
   "execution_count": 9,
   "id": "5bb13595-4bdf-4523-bedd-6e395dd94d19",
   "metadata": {},
   "outputs": [],
   "source": [
    "schema = StructType([ \\\n",
    "    StructField(\"X\",DoubleType(), True), \\\n",
    "    StructField(\"Y\",DoubleType(), True), \\\n",
    "    StructField(\"RowID\",IntegerType(), True), \\\n",
    "    StructField(\"CrimeDateTime\",StringType(), True), \\\n",
    "    StructField(\"CrimeCode\",StringType(), True), \\\n",
    "    StructField(\"Location\",StringType(), True), \\\n",
    "    StructField(\"Description\",StringType(), True),\\\n",
    "    StructField(\"Inside_Outside\",StringType(), True),\\\n",
    "    StructField(\"Weapon\",StringType(), True),\\\n",
    "    StructField(\"Post\",IntegerType(), True),\\\n",
    "    StructField(\"District\",StringType(), True),\\\n",
    "    StructField(\"Neighborhood\",StringType(), True),\\\n",
    "    StructField(\"Latitude\",DoubleType(), True),\\\n",
    "    StructField(\"Longitude\",DoubleType(), True),\\\n",
    "    StructField(\"GeoLocation\",StringType(), True),\\\n",
    "    StructField(\"Premise\",IntegerType(), True),\\\n",
    "    StructField(\"VRIName\",StringType(), True),\\\n",
    "    StructField(\"Total_Incidents\",IntegerType(), True),\\\n",
    "    StructField(\"Shape\",StringType(), True)\\\n",
    "    \n",
    "])"
   ]
  },
  {
   "cell_type": "markdown",
   "id": "44b1fc72-939e-40ca-8d83-4a5986a98259",
   "metadata": {},
   "source": [
    "## Reading file using schema "
   ]
  },
  {
   "cell_type": "code",
   "execution_count": 10,
   "id": "721da5e4-f3ea-4401-81a2-6c830eda312d",
   "metadata": {},
   "outputs": [],
   "source": [
    "df1 = spark.read.csv(\"crime.csv\",sep=\",\", header=True, nullValue='NA', schema=schema)"
   ]
  },
  {
   "cell_type": "code",
   "execution_count": 20,
   "id": "c03aa530-3367-481c-914a-38b302a81a04",
   "metadata": {},
   "outputs": [
    {
     "name": "stdout",
     "output_type": "stream",
     "text": [
      "+----------------+----------------+-----+--------------------+---------+--------------------+--------------+--------------+-------+----+---------+--------------------+--------+---------+------------------+-------+------------+---------------+-----+\n",
      "|               X|               Y|RowID|       CrimeDateTime|CrimeCode|            Location|   Description|Inside_Outside| Weapon|Post| District|        Neighborhood|Latitude|Longitude|       GeoLocation|Premise|     VRIName|Total_Incidents|Shape|\n",
      "+----------------+----------------+-----+--------------------+---------+--------------------+--------------+--------------+-------+----+---------+--------------------+--------+---------+------------------+-------+------------+---------------+-----+\n",
      "|1420074.13302107|594160.602354662|    1|2022/02/26 04:00:...|       4E|   200 W MONUMENT ST|COMMON ASSAULT|          null|   null| 124|  CENTRAL|        MOUNT VERNON| 39.2975| -76.6193|(39.2975,-76.6193)|   null|        null|              1| null|\n",
      "|1411374.22509631|589791.383964529|    2|2022/02/26 01:26:...|       9S|  2100 FREDERICK AVE|      SHOOTING|       Outside|FIREARM| 835|SOUTHWEST|    CARROLLTON RIDGE| 39.2856| -76.6501|(39.2856,-76.6501)|   null|Tri-District|              1| null|\n",
      "|1411401.16887136|582761.775193539|    3|2022/02/26 10:22:...|       4E|  2000 GRINNALDS AVE|COMMON ASSAULT|          null|   null| 831|SOUTHWEST|        MORRELL PARK| 39.2663| -76.6501|(39.2663,-76.6501)|   null|        null|              1| null|\n",
      "|1422663.14365552|597595.359444412|    4|2022/02/26 01:11:...|       7A|     400 E OLIVER ST|    AUTO THEFT|          null|   null| 313|  EASTERN|     GREENMOUNT WEST| 39.3069| -76.6101|(39.3069,-76.6101)|   null|        null|              1| null|\n",
      "|1440496.49709374|607767.144994879|    5|2022/02/26 12:30:...|       4B| 5300 PLAINFIELD AVE|  AGG. ASSAULT|          null|  KNIFE| 444|NORTHEAST|           FRANKFORD| 39.3346| -76.5469|(39.3346,-76.5469)|   null|        null|              1| null|\n",
      "|1413036.07669276|584625.682223044|    6|2022/02/26 05:40:...|       5F|    1300 WESTERN AVE|      BURGLARY|          null|   null| 941| SOUTHERN|CARROLL - CAMDEN ...| 39.2714| -76.6443|(39.2714,-76.6443)|   null|        null|              1| null|\n",
      "|1413036.07669276|584625.682223044|    7|2022/02/26 05:40:...|       6G|    1300 WESTERN AVE|       LARCENY|          null|   null| 941| SOUTHERN|CARROLL - CAMDEN ...| 39.2714| -76.6443|(39.2714,-76.6443)|   null|        null|              1| null|\n",
      "|1413415.61575604|588925.125519094|    8|2022/02/26 14:32:...|       4E|    1600 WILKENS AVE|COMMON ASSAULT|          null|   null| 935| SOUTHERN|NEW SOUTHWEST/MOU...| 39.2832| -76.6429|(39.2832,-76.6429)|   null|Tri-District|              1| null|\n",
      "|1417569.89995454|597537.684190899|    9|2022/02/26 03:05:...|       4B|     300 MCMECHEN ST|  AGG. ASSAULT|          null|  KNIFE| 132|  CENTRAL|         BOLTON HILL| 39.3068| -76.6281|(39.3068,-76.6281)|   null|        null|              1| null|\n",
      "|1435909.71688415|608691.815294192|   10|2022/02/26 14:10:...|       4A|  3800 CEDARHURST RD|  AGG. ASSAULT|          null|FIREARM| 426|NORTHEAST|          WALTHERSON| 39.3372| -76.5631|(39.3372,-76.5631)|   null|        null|              1| null|\n",
      "|1426723.75762613|613566.755914427|   11|2022/02/26 19:30:...|       4B|     1300 KITMORE RD|  AGG. ASSAULT|          null|  KNIFE| 413|NORTHEAST|       NEW NORTHWOOD| 39.3507| -76.5955|(39.3507,-76.5955)|   null|        null|              1| null|\n",
      "|1399111.03747379|608687.617784868|   12|2022/02/26 01:28:...|       4A|   4400 FERNHILL AVE|  AGG. ASSAULT|          null|FIREARM| 621|NORTHWEST|      WEST ARLINGTON| 39.3376| -76.6932|(39.3376,-76.6932)|   null|        null|              1| null|\n",
      "|1399111.03747379|608687.617784868|   13|2022/02/26 01:28:...|       4A|   4400 FERNHILL AVE|  AGG. ASSAULT|          null|FIREARM| 621|NORTHWEST|      WEST ARLINGTON| 39.3376| -76.6932|(39.3376,-76.6932)|   null|        null|              1| null|\n",
      "|1399111.03747379|608687.617784868|   14|2022/02/26 01:28:...|       4A|   4400 FERNHILL AVE|  AGG. ASSAULT|          null|FIREARM| 621|NORTHWEST|      WEST ARLINGTON| 39.3376| -76.6932|(39.3376,-76.6932)|   null|        null|              1| null|\n",
      "|1401970.80199615|607823.211193856|   15|2022/02/26 19:30:...|       4B|3900 W COLD SPRIN...|  AGG. ASSAULT|          null|  KNIFE| 623|NORTHWEST|            DOLFIELD| 39.3352| -76.6831|(39.3352,-76.6831)|   null|        null|              1| null|\n",
      "|1422005.36086113|  592566.0878077|   16|2022/02/26 20:45:...|       4A|    300 N CALVERT ST|  AGG. ASSAULT|          null|FIREARM| 111|  CENTRAL|            DOWNTOWN| 39.2931| -76.6125|(39.2931,-76.6125)|   null|        null|              1| null|\n",
      "|1399111.03747379|608687.617784868|   17|2022/02/26 01:28:...|       4A|   4400 FERNHILL AVE|  AGG. ASSAULT|          null|FIREARM| 621|NORTHWEST|      WEST ARLINGTON| 39.3376| -76.6932|(39.3376,-76.6932)|   null|        null|              1| null|\n",
      "|1399111.03747379|608687.617784868|   18|2022/02/26 01:28:...|       4A|   4400 FERNHILL AVE|  AGG. ASSAULT|          null|FIREARM| 621|NORTHWEST|      WEST ARLINGTON| 39.3376| -76.6932|(39.3376,-76.6932)|   null|        null|              1| null|\n",
      "|1399111.03747379|608687.617784868|   19|2022/02/26 01:28:...|       4A|   4400 FERNHILL AVE|  AGG. ASSAULT|          null|FIREARM| 621|NORTHWEST|      WEST ARLINGTON| 39.3376| -76.6932|(39.3376,-76.6932)|   null|        null|              1| null|\n",
      "|1421674.05836434|590597.809613198|   20|2022/02/26 10:30:...|       4E|        100 LIGHT ST|COMMON ASSAULT|          null|   null| 113|  CENTRAL|       DOWNTOWN WEST| 39.2877| -76.6137|(39.2877,-76.6137)|   null|        null|              1| null|\n",
      "+----------------+----------------+-----+--------------------+---------+--------------------+--------------+--------------+-------+----+---------+--------------------+--------+---------+------------------+-------+------------+---------------+-----+\n",
      "only showing top 20 rows\n",
      "\n"
     ]
    }
   ],
   "source": [
    "df1.show()"
   ]
  },
  {
   "cell_type": "markdown",
   "id": "f8c16ec1-6889-4bfb-b55c-9266641656e7",
   "metadata": {},
   "source": [
    "### Printing schema"
   ]
  },
  {
   "cell_type": "code",
   "execution_count": 21,
   "id": "115237de-9a87-4a17-976b-64d7529377fe",
   "metadata": {},
   "outputs": [
    {
     "name": "stdout",
     "output_type": "stream",
     "text": [
      "root\n",
      " |-- X: double (nullable = true)\n",
      " |-- Y: double (nullable = true)\n",
      " |-- RowID: integer (nullable = true)\n",
      " |-- CrimeDateTime: string (nullable = true)\n",
      " |-- CrimeCode: string (nullable = true)\n",
      " |-- Location: string (nullable = true)\n",
      " |-- Description: string (nullable = true)\n",
      " |-- Inside_Outside: string (nullable = true)\n",
      " |-- Weapon: string (nullable = true)\n",
      " |-- Post: integer (nullable = true)\n",
      " |-- District: string (nullable = true)\n",
      " |-- Neighborhood: string (nullable = true)\n",
      " |-- Latitude: double (nullable = true)\n",
      " |-- Longitude: double (nullable = true)\n",
      " |-- GeoLocation: string (nullable = true)\n",
      " |-- Premise: integer (nullable = true)\n",
      " |-- VRIName: string (nullable = true)\n",
      " |-- Total_Incidents: integer (nullable = true)\n",
      " |-- Shape: string (nullable = true)\n",
      "\n"
     ]
    }
   ],
   "source": [
    "df1.printSchema()"
   ]
  },
  {
   "cell_type": "markdown",
   "id": "cbc7060a-5852-4442-b289-d299fe2b2a8b",
   "metadata": {},
   "source": [
    "### cache the dataframe "
   ]
  },
  {
   "cell_type": "code",
   "execution_count": 23,
   "id": "16e090aa-fdd6-451e-834b-dbabc1fec7c9",
   "metadata": {},
   "outputs": [],
   "source": [
    "df1=df1.cache()"
   ]
  },
  {
   "cell_type": "code",
   "execution_count": 24,
   "id": "75faa1e1-d11c-4a48-870d-4a0de0345670",
   "metadata": {},
   "outputs": [
    {
     "data": {
      "text/plain": [
       "513158"
      ]
     },
     "execution_count": 24,
     "metadata": {},
     "output_type": "execute_result"
    }
   ],
   "source": [
    "#counting the number of rows \n",
    "df1.count()"
   ]
  },
  {
   "cell_type": "code",
   "execution_count": 25,
   "id": "3642eaca-5da7-4814-9d90-52f14a968f62",
   "metadata": {},
   "outputs": [
    {
     "data": {
      "text/plain": [
       "[Row(X=1420074.13302107, Y=594160.602354662, RowID=1, CrimeDateTime='2022/02/26 04:00:00+00', CrimeCode='4E', Location='200 W MONUMENT ST', Description='COMMON ASSAULT', Inside_Outside=None, Weapon=None, Post=124, District='CENTRAL', Neighborhood='MOUNT VERNON', Latitude=39.2975, Longitude=-76.6193, GeoLocation='(39.2975,-76.6193)', Premise=None, VRIName=None, Total_Incidents=1, Shape=None),\n",
       " Row(X=1411374.22509631, Y=589791.383964529, RowID=2, CrimeDateTime='2022/02/26 01:26:30+00', CrimeCode='9S', Location='2100 FREDERICK AVE', Description='SHOOTING', Inside_Outside='Outside', Weapon='FIREARM', Post=835, District='SOUTHWEST', Neighborhood='CARROLLTON RIDGE', Latitude=39.2856, Longitude=-76.6501, GeoLocation='(39.2856,-76.6501)', Premise=None, VRIName='Tri-District', Total_Incidents=1, Shape=None),\n",
       " Row(X=1411401.16887136, Y=582761.775193539, RowID=3, CrimeDateTime='2022/02/26 10:22:00+00', CrimeCode='4E', Location='2000 GRINNALDS AVE', Description='COMMON ASSAULT', Inside_Outside=None, Weapon=None, Post=831, District='SOUTHWEST', Neighborhood='MORRELL PARK', Latitude=39.2663, Longitude=-76.6501, GeoLocation='(39.2663,-76.6501)', Premise=None, VRIName=None, Total_Incidents=1, Shape=None),\n",
       " Row(X=1422663.14365552, Y=597595.359444412, RowID=4, CrimeDateTime='2022/02/26 01:11:00+00', CrimeCode='7A', Location='400 E OLIVER ST', Description='AUTO THEFT', Inside_Outside=None, Weapon=None, Post=313, District='EASTERN', Neighborhood='GREENMOUNT WEST', Latitude=39.3069, Longitude=-76.6101, GeoLocation='(39.3069,-76.6101)', Premise=None, VRIName=None, Total_Incidents=1, Shape=None),\n",
       " Row(X=1440496.49709374, Y=607767.144994879, RowID=5, CrimeDateTime='2022/02/26 12:30:00+00', CrimeCode='4B', Location='5300 PLAINFIELD AVE', Description='AGG. ASSAULT', Inside_Outside=None, Weapon='KNIFE', Post=444, District='NORTHEAST', Neighborhood='FRANKFORD', Latitude=39.3346, Longitude=-76.5469, GeoLocation='(39.3346,-76.5469)', Premise=None, VRIName=None, Total_Incidents=1, Shape=None)]"
      ]
     },
     "execution_count": 25,
     "metadata": {},
     "output_type": "execute_result"
    }
   ],
   "source": [
    "#looking at the first five rows of dataframe\n",
    "df1.take(5)"
   ]
  },
  {
   "cell_type": "code",
   "execution_count": 26,
   "id": "331740c8-f5fa-409d-adad-e77c53b8fd3d",
   "metadata": {},
   "outputs": [],
   "source": [
    "#converting the datetime column into timestamp format\n",
    "df2 = df1.withColumn('CrimeDateTime', to_timestamp('CrimeDateTime', 'yyyy/MM/dd hh:mm:ss+00'))"
   ]
  },
  {
   "cell_type": "code",
   "execution_count": 29,
   "id": "bee928bd-a080-45fa-8bd4-0b7e88e5e92d",
   "metadata": {},
   "outputs": [
    {
     "name": "stdout",
     "output_type": "stream",
     "text": [
      "root\n",
      " |-- X: double (nullable = true)\n",
      " |-- Y: double (nullable = true)\n",
      " |-- RowID: integer (nullable = true)\n",
      " |-- CrimeDateTime: timestamp (nullable = true)\n",
      " |-- CrimeCode: string (nullable = true)\n",
      " |-- Location: string (nullable = true)\n",
      " |-- Description: string (nullable = true)\n",
      " |-- Inside_Outside: string (nullable = true)\n",
      " |-- Weapon: string (nullable = true)\n",
      " |-- Post: integer (nullable = true)\n",
      " |-- District: string (nullable = true)\n",
      " |-- Neighborhood: string (nullable = true)\n",
      " |-- Latitude: double (nullable = true)\n",
      " |-- Longitude: double (nullable = true)\n",
      " |-- GeoLocation: string (nullable = true)\n",
      " |-- Premise: integer (nullable = true)\n",
      " |-- VRIName: string (nullable = true)\n",
      " |-- Total_Incidents: integer (nullable = true)\n",
      " |-- Shape: string (nullable = true)\n",
      "\n"
     ]
    }
   ],
   "source": [
    "df2.printSchema()"
   ]
  },
  {
   "cell_type": "markdown",
   "id": "ed9c9fd5-b799-4ddf-9a39-d3006297df97",
   "metadata": {},
   "source": [
    "### Counting the distinct crime codes and looking at them "
   ]
  },
  {
   "cell_type": "code",
   "execution_count": 32,
   "id": "25b1b5c1-602b-4736-86cd-e6b0d4e44c61",
   "metadata": {},
   "outputs": [
    {
     "data": {
      "text/plain": [
       "85"
      ]
     },
     "execution_count": 32,
     "metadata": {},
     "output_type": "execute_result"
    }
   ],
   "source": [
    "df2.select(\"CrimeCode\").distinct().count()"
   ]
  },
  {
   "cell_type": "code",
   "execution_count": 33,
   "id": "833f6fc8-b370-4a3b-8370-8d4276909f7c",
   "metadata": {},
   "outputs": [
    {
     "name": "stdout",
     "output_type": "stream",
     "text": [
      "+---------+\n",
      "|CrimeCode|\n",
      "+---------+\n",
      "|       3P|\n",
      "|       3K|\n",
      "|      3BJ|\n",
      "|       1A|\n",
      "|       3M|\n",
      "|       5F|\n",
      "|       4B|\n",
      "|       3B|\n",
      "|       7A|\n",
      "|      3NF|\n",
      "|      3EF|\n",
      "|       3N|\n",
      "|       5D|\n",
      "|       6K|\n",
      "|      3LO|\n",
      "|      3AF|\n",
      "|       7B|\n",
      "|      3GO|\n",
      "|     3AJF|\n",
      "|      8GV|\n",
      "+---------+\n",
      "only showing top 20 rows\n",
      "\n"
     ]
    }
   ],
   "source": [
    "df2.select(\"CrimeCode\").distinct().show()\n"
   ]
  },
  {
   "cell_type": "code",
   "execution_count": 34,
   "id": "50921b6e-7e95-45b1-adbf-371ad5951418",
   "metadata": {},
   "outputs": [],
   "source": [
    "df2=df2.cache()"
   ]
  },
  {
   "cell_type": "markdown",
   "id": "6fd249a7-eec3-4cb4-9da3-64237cc36f27",
   "metadata": {},
   "source": [
    "### Number of crimes with respect to the crime code"
   ]
  },
  {
   "cell_type": "code",
   "execution_count": 35,
   "id": "16b80995-044b-439d-bb61-0467125981f2",
   "metadata": {},
   "outputs": [],
   "source": [
    "crime_code=df2.groupBy(\"crimeCode\").count()"
   ]
  },
  {
   "cell_type": "code",
   "execution_count": 36,
   "id": "81663bfb-e5fb-46a3-8bec-02a4cbe2a2c1",
   "metadata": {},
   "outputs": [],
   "source": [
    "crime_order=crime_code.orderBy('count', ascending=False)"
   ]
  },
  {
   "cell_type": "code",
   "execution_count": 37,
   "id": "6a7885f8-51f8-47fa-9247-aa4dcf38194b",
   "metadata": {},
   "outputs": [
    {
     "name": "stdout",
     "output_type": "stream",
     "text": [
      "+---------+-----+\n",
      "|crimeCode|count|\n",
      "+---------+-----+\n",
      "|4E       |91650|\n",
      "|6D       |68427|\n",
      "|5A       |43928|\n",
      "|7A       |40274|\n",
      "|6J       |27636|\n",
      "|6G       |26858|\n",
      "|6E       |24300|\n",
      "|6C       |23227|\n",
      "|4C       |22438|\n",
      "|5D       |14971|\n",
      "|3AF      |14739|\n",
      "|4B       |14460|\n",
      "|4A       |13226|\n",
      "|3B       |10737|\n",
      "|4D       |7232 |\n",
      "|5B       |6475 |\n",
      "|9S       |5443 |\n",
      "|6F       |5081 |\n",
      "|5C       |4917 |\n",
      "|6B       |4106 |\n",
      "+---------+-----+\n",
      "only showing top 20 rows\n",
      "\n"
     ]
    }
   ],
   "source": [
    "crime_order.show(truncate=False)"
   ]
  },
  {
   "cell_type": "markdown",
   "id": "0e4f9142-e63f-44b4-9283-fcb5aab6f2f4",
   "metadata": {},
   "source": [
    "### Neighborhood with most number of crimes"
   ]
  },
  {
   "cell_type": "code",
   "execution_count": 39,
   "id": "4293bf52-2637-40df-9559-ad705b432f00",
   "metadata": {},
   "outputs": [
    {
     "name": "stdout",
     "output_type": "stream",
     "text": [
      "+------------+-----+\n",
      "|Neighborhood|count|\n",
      "+------------+-----+\n",
      "|    DOWNTOWN|17799|\n",
      "+------------+-----+\n",
      "only showing top 1 row\n",
      "\n"
     ]
    }
   ],
   "source": [
    "df2.groupBy([\"Neighborhood\"]).count().orderBy('count',ascending=False).show(1)"
   ]
  },
  {
   "cell_type": "code",
   "execution_count": 40,
   "id": "455cf6e7-5184-42c1-902f-7ac42c43993b",
   "metadata": {},
   "outputs": [],
   "source": [
    "# Extracting the year and month from the crimedatetime column\n",
    "df_month = df2.withColumn('year_month', month(df2['CrimeDateTime']))\\\n",
    "              .withColumn(\"year_of_crime\", year(df2[\"CrimeDateTime\"])).cache()"
   ]
  },
  {
   "cell_type": "code",
   "execution_count": 42,
   "id": "a94500c0-8bc0-4c07-857e-e7f1da4bef8f",
   "metadata": {},
   "outputs": [],
   "source": [
    "# removing any null values \n",
    "df3=df_month.na.drop(subset=[\"year_of_crime\",\"year_month\"])"
   ]
  },
  {
   "cell_type": "markdown",
   "id": "1832f6c2-e881-4555-8470-b6a36d220513",
   "metadata": {},
   "source": [
    "### The month of the year with most number of crimes"
   ]
  },
  {
   "cell_type": "code",
   "execution_count": 44,
   "id": "218c820b-dc59-4c49-af7b-1ea1a6b7d094",
   "metadata": {},
   "outputs": [
    {
     "name": "stdout",
     "output_type": "stream",
     "text": [
      "+----------+-----+\n",
      "|year_month|count|\n",
      "+----------+-----+\n",
      "|         8|17151|\n",
      "+----------+-----+\n",
      "only showing top 1 row\n",
      "\n"
     ]
    }
   ],
   "source": [
    "year_month=df3.groupBy([\"year_month\"]).count().orderBy(\"count\",ascending=False).show(1)"
   ]
  },
  {
   "cell_type": "code",
   "execution_count": 45,
   "id": "2ca3880d-1935-4c67-9aa5-26d8767d1ff1",
   "metadata": {},
   "outputs": [],
   "source": [
    "#removing any row which has null values\n",
    "df_weapon=df1.na.drop(subset=[\"Weapon\"])"
   ]
  },
  {
   "cell_type": "code",
   "execution_count": 46,
   "id": "8e0ec86c-be1f-4af6-997d-01492e96d6ba",
   "metadata": {},
   "outputs": [
    {
     "name": "stdout",
     "output_type": "stream",
     "text": [
      "+-------+\n",
      "| Weapon|\n",
      "+-------+\n",
      "|  HANDS|\n",
      "|  KNIFE|\n",
      "|  OTHER|\n",
      "|   FIRE|\n",
      "|FIREARM|\n",
      "+-------+\n",
      "\n"
     ]
    }
   ],
   "source": [
    "# Different weapons used in crimes\n",
    "df_weapon.select(\"Weapon\").distinct().show()"
   ]
  },
  {
   "cell_type": "markdown",
   "id": "00c23362-631a-4996-8a34-a17d8f5d16f2",
   "metadata": {},
   "source": [
    "### The weapon that was used the most."
   ]
  },
  {
   "cell_type": "code",
   "execution_count": 47,
   "id": "54a6c58c-5157-47c0-9bf6-b9d4b44b808e",
   "metadata": {},
   "outputs": [
    {
     "name": "stdout",
     "output_type": "stream",
     "text": [
      "+-------+-----+\n",
      "| Weapon|count|\n",
      "+-------+-----+\n",
      "|FIREARM|46139|\n",
      "+-------+-----+\n",
      "only showing top 1 row\n",
      "\n"
     ]
    }
   ],
   "source": [
    "df_weapon.groupBy(\"Weapon\").count().orderBy(\"count\", ascending=False).show(1)"
   ]
  },
  {
   "cell_type": "code",
   "execution_count": null,
   "id": "10b66e87-b4a8-4bc3-8a83-e3fe2fe12905",
   "metadata": {},
   "outputs": [],
   "source": []
  }
 ],
 "metadata": {
  "kernelspec": {
   "display_name": "Python 3 (ipykernel)",
   "language": "python",
   "name": "python3"
  },
  "language_info": {
   "codemirror_mode": {
    "name": "ipython",
    "version": 3
   },
   "file_extension": ".py",
   "mimetype": "text/x-python",
   "name": "python",
   "nbconvert_exporter": "python",
   "pygments_lexer": "ipython3",
   "version": "3.9.10"
  }
 },
 "nbformat": 4,
 "nbformat_minor": 5
}
