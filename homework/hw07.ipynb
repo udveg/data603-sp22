{
  "nbformat": 4,
  "nbformat_minor": 0,
  "metadata": {
    "colab": {
      "name": "hw07.ipynb",
      "provenance": [],
      "collapsed_sections": []
    },
    "kernelspec": {
      "name": "python3",
      "display_name": "Python 3"
    },
    "language_info": {
      "name": "python"
    }
  },
  "cells": [
    {
      "cell_type": "markdown",
      "source": [
        "### Importing all the useful libraries"
      ],
      "metadata": {
        "id": "9-_-Bd6p_LXT"
      }
    },
    {
      "cell_type": "code",
      "source": [
        "from pyspark.sql.functions import mean\n",
        "from pyspark.sql.functions import when\n",
        "from pyspark.sql import functions as F\n",
        "import pyspark.sql.functions as f\n",
        "from pyspark.sql.types import DoubleType\n",
        "from pyspark.ml.feature import StringIndexer\n",
        "from pyspark.ml.feature import VectorAssembler\n",
        "from pyspark.ml.classification import DecisionTreeClassifier\n",
        "\n",
        "from pyspark.ml.evaluation import MulticlassClassificationEvaluator\n",
        "from pyspark.ml.classification import RandomForestClassifier\n",
        "from pyspark.ml.classification import LogisticRegression\n",
        "from pyspark.ml.classification import GBTClassifier\n",
        "from pyspark.mllib.evaluation import MulticlassMetrics\n",
        "import matplotlib.pyplot as plt\n",
        "from pyspark.ml.tuning import ParamGridBuilder, CrossValidator\n",
        "from pyspark.ml.evaluation import BinaryClassificationEvaluator\n",
        "from pyspark.mllib.evaluation import BinaryClassificationMetrics\n",
        "from pyspark.ml.tuning import ParamGridBuilder, TrainValidationSplit, CrossValidator\n",
        "from pyspark.ml.evaluation import BinaryClassificationEvaluator\n",
        "from pyspark.mllib.evaluation import BinaryClassificationMetrics\n",
        "from pyspark.mllib.classification import LogisticRegressionWithLBFGS\n",
        "from pyspark.mllib.evaluation import BinaryClassificationMetrics\n",
        "from pyspark.mllib.util import MLUtils\n"
      ],
      "metadata": {
        "id": "ItCbuTnyk7BT"
      },
      "execution_count": 37,
      "outputs": []
    },
    {
      "cell_type": "code",
      "execution_count": 3,
      "metadata": {
        "id": "960TUSPZfDSa"
      },
      "outputs": [],
      "source": [
        "from pyspark.sql import SparkSession\n",
        "import pyspark.sql.functions as F\n",
        "import pyspark.sql.types as T\n",
        "\n",
        "spark = SparkSession.builder.getOrCreate()"
      ]
    },
    {
      "cell_type": "code",
      "source": [
        "import pyspark\n",
        "spark = pyspark.sql.SparkSession.builder.getOrCreate()\n",
        "sc = spark.sparkContext"
      ],
      "metadata": {
        "id": "QhtZMk6NfFU0"
      },
      "execution_count": 38,
      "outputs": []
    },
    {
      "cell_type": "code",
      "source": [
        "spark"
      ],
      "metadata": {
        "colab": {
          "base_uri": "https://localhost:8080/",
          "height": 219
        },
        "id": "mld_SAeRki1z",
        "outputId": "1eee3e91-4e4e-4385-d6a6-835ff13d8ef0"
      },
      "execution_count": 39,
      "outputs": [
        {
          "output_type": "execute_result",
          "data": {
            "text/plain": [
              "<pyspark.sql.session.SparkSession at 0x7f0216649590>"
            ],
            "text/html": [
              "\n",
              "            <div>\n",
              "                <p><b>SparkSession - in-memory</b></p>\n",
              "                \n",
              "        <div>\n",
              "            <p><b>SparkContext</b></p>\n",
              "\n",
              "            <p><a href=\"http://b976a2b5e9a4:4040\">Spark UI</a></p>\n",
              "\n",
              "            <dl>\n",
              "              <dt>Version</dt>\n",
              "                <dd><code>v3.2.1</code></dd>\n",
              "              <dt>Master</dt>\n",
              "                <dd><code>local[*]</code></dd>\n",
              "              <dt>AppName</dt>\n",
              "                <dd><code>pyspark-shell</code></dd>\n",
              "            </dl>\n",
              "        </div>\n",
              "        \n",
              "            </div>\n",
              "        "
            ]
          },
          "metadata": {},
          "execution_count": 39
        }
      ]
    },
    {
      "cell_type": "markdown",
      "source": [
        "### Performing some EDA before we pass the data\n",
        "\n",
        "#### Redaing the file and also counting the number of null values in data\n"
      ],
      "metadata": {
        "id": "IQQXens0_X9k"
      }
    },
    {
      "cell_type": "code",
      "source": [
        "df = spark.read.csv('weatherAUS.csv',inferSchema =True, header = True)"
      ],
      "metadata": {
        "id": "eaOnb0tTkk6u"
      },
      "execution_count": 4,
      "outputs": []
    },
    {
      "cell_type": "code",
      "source": [
        "for i in df.columns:\n",
        "    count = df.filter(df[i] == 'NA').count()\n",
        "    print('Total null counts for',i,'are:',count)"
      ],
      "metadata": {
        "colab": {
          "base_uri": "https://localhost:8080/"
        },
        "id": "9qfeMYdHkni-",
        "outputId": "26bbcb88-7ee1-49c9-be36-40710b3cad0f"
      },
      "execution_count": 5,
      "outputs": [
        {
          "output_type": "stream",
          "name": "stdout",
          "text": [
            "Total null counts for Date are: 0\n",
            "Total null counts for Location are: 0\n",
            "Total null counts for MinTemp are: 1485\n",
            "Total null counts for MaxTemp are: 1261\n",
            "Total null counts for Rainfall are: 3261\n",
            "Total null counts for Evaporation are: 62790\n",
            "Total null counts for Sunshine are: 69835\n",
            "Total null counts for WindGustDir are: 10326\n",
            "Total null counts for WindGustSpeed are: 10263\n",
            "Total null counts for WindDir9am are: 10566\n",
            "Total null counts for WindDir3pm are: 4228\n",
            "Total null counts for WindSpeed9am are: 1767\n",
            "Total null counts for WindSpeed3pm are: 3062\n",
            "Total null counts for Humidity9am are: 2654\n",
            "Total null counts for Humidity3pm are: 4507\n",
            "Total null counts for Pressure9am are: 15065\n",
            "Total null counts for Pressure3pm are: 15028\n",
            "Total null counts for Cloud9am are: 55888\n",
            "Total null counts for Cloud3pm are: 59358\n",
            "Total null counts for Temp9am are: 1767\n",
            "Total null counts for Temp3pm are: 3609\n",
            "Total null counts for RainToday are: 3261\n",
            "Total null counts for RainTomorrow are: 3267\n"
          ]
        }
      ]
    },
    {
      "cell_type": "markdown",
      "source": [
        "#### I have dropped the columns which are independent and also the columns which had null values more than 60% "
      ],
      "metadata": {
        "id": "6VdHgGU6_qKD"
      }
    },
    {
      "cell_type": "code",
      "source": [
        "df = df.drop('Date','Location','Evaporation','Sunshine','Cloud9am','Cloud3pm','Temp9am','Temp3pm')"
      ],
      "metadata": {
        "id": "DJcBU1f_ksyM"
      },
      "execution_count": 6,
      "outputs": []
    },
    {
      "cell_type": "code",
      "source": [
        "numeric_col = [df['MinTemp'],df['MaxTemp'],df['Rainfall'],df['WindGustSpeed'],df['WindSpeed9am'],df['WindSpeed3pm'],df['Humidity9am'],df['Humidity3pm'],df['Pressure9am']]"
      ],
      "metadata": {
        "id": "NZWz2oz5kzFY"
      },
      "execution_count": 7,
      "outputs": []
    },
    {
      "cell_type": "markdown",
      "source": [
        "#### Calculated the average so that I could Impute the null records."
      ],
      "metadata": {
        "id": "HYAv4kn4AEvo"
      }
    },
    {
      "cell_type": "code",
      "source": [
        "for i in numeric_col:\n",
        "  average = df.select([mean(i)]).show()\n",
        "  average"
      ],
      "metadata": {
        "colab": {
          "base_uri": "https://localhost:8080/"
        },
        "id": "OIHk44ogk3lG",
        "outputId": "c2d75a61-4460-4e63-af3a-534369b4e3df"
      },
      "execution_count": 8,
      "outputs": [
        {
          "output_type": "stream",
          "name": "stdout",
          "text": [
            "+------------------+\n",
            "|      avg(MinTemp)|\n",
            "+------------------+\n",
            "|12.194034380968894|\n",
            "+------------------+\n",
            "\n",
            "+------------------+\n",
            "|      avg(MaxTemp)|\n",
            "+------------------+\n",
            "|23.221348275647014|\n",
            "+------------------+\n",
            "\n",
            "+------------------+\n",
            "|     avg(Rainfall)|\n",
            "+------------------+\n",
            "|2.3609181499168272|\n",
            "+------------------+\n",
            "\n",
            "+------------------+\n",
            "|avg(WindGustSpeed)|\n",
            "+------------------+\n",
            "| 40.03523007167319|\n",
            "+------------------+\n",
            "\n",
            "+------------------+\n",
            "| avg(WindSpeed9am)|\n",
            "+------------------+\n",
            "|14.043425914971502|\n",
            "+------------------+\n",
            "\n",
            "+------------------+\n",
            "| avg(WindSpeed3pm)|\n",
            "+------------------+\n",
            "|18.662656778887342|\n",
            "+------------------+\n",
            "\n",
            "+-----------------+\n",
            "| avg(Humidity9am)|\n",
            "+-----------------+\n",
            "|68.88083133761887|\n",
            "+-----------------+\n",
            "\n",
            "+----------------+\n",
            "|avg(Humidity3pm)|\n",
            "+----------------+\n",
            "|51.5391158755046|\n",
            "+----------------+\n",
            "\n",
            "+------------------+\n",
            "|  avg(Pressure9am)|\n",
            "+------------------+\n",
            "|1017.6499397983058|\n",
            "+------------------+\n",
            "\n"
          ]
        }
      ]
    },
    {
      "cell_type": "markdown",
      "source": [
        "Updating the numeric column's null values with their respective mean "
      ],
      "metadata": {
        "id": "VR6MBtcCFgYj"
      }
    },
    {
      "cell_type": "code",
      "source": [
        "updatedmint = df.withColumn(\"MinTemp\",F.when(F.col(\"MinTemp\") == 'NA',12.2).otherwise(F.col(\"MinTemp\")))\n",
        "updatedmaxt = updatedmint.withColumn(\"MaxTemp\",F.when(F.col(\"MaxTemp\") == 'NA',23.2).otherwise(F.col(\"MaxTemp\")))\n",
        "updatedrainf = updatedmaxt.withColumn(\"Rainfall\",F.when(F.col(\"Rainfall\") == 'NA',2.3).otherwise(F.col(\"Rainfall\")))\n",
        "updatedwind = updatedrainf.withColumn(\"WindGustSpeed\",F.when(F.col(\"WindGustSpeed\") == 'NA',40.0).otherwise(F.col(\"WindGustSpeed\")))\n",
        "updatedwinds9 = updatedwind.withColumn(\"WindSpeed9am\",F.when(F.col(\"WindSpeed9am\") == 'NA',14.0).otherwise(F.col(\"WindSpeed9am\")))\n",
        "updatedwinds3 = updatedwinds9.withColumn(\"WindSpeed3pm\",F.when(F.col(\"WindSpeed3pm\") == 'NA',18.6).otherwise(F.col(\"WindSpeed3pm\")))\n",
        "updatedhum9 = updatedwinds3.withColumn(\"Humidity9am\",F.when(F.col(\"Humidity9am\") == 'NA',68.8).otherwise(F.col(\"Humidity9am\")))\n",
        "updatedhum3 = updatedhum9.withColumn(\"Humidity3pm\",F.when(F.col(\"Humidity3pm\") == 'NA',51.5).otherwise(F.col(\"Humidity3pm\")))\n",
        "updatedpres9 = updatedhum3.withColumn(\"Pressure9am\",F.when(F.col(\"Pressure9am\") == 'NA',1017.7).otherwise(F.col(\"Pressure9am\")))\n",
        "inputted_numeric = updatedpres9.withColumn(\"Pressure3pm\",F.when(F.col(\"Pressure3pm\") == 'NA',1015.3).otherwise(F.col(\"Pressure3pm\")))"
      ],
      "metadata": {
        "id": "XIbr3KNqk5SN"
      },
      "execution_count": 9,
      "outputs": []
    },
    {
      "cell_type": "code",
      "source": [
        "updatedwindgust = inputted_numeric.withColumn(\"WindGustDir\",F.when(F.col(\"WindGustDir\") == 'NA','W').otherwise(F.col(\"WindGustDir\")))\n",
        "updatedwindir9 = updatedwindgust.withColumn(\"WindDir9am\",F.when(F.col(\"WindDir9am\") == 'NA','N').otherwise(F.col(\"WindDir9am\")))\n",
        "updatedwindir3 = updatedwindir9.withColumn(\"WindDir3pm\",F.when(F.col(\"WindDir3pm\") == 'NA','SE').otherwise(F.col(\"WindDir3pm\")))\n",
        "updatedraint = updatedwindir3.withColumn(\"RainToday\",F.when(F.col(\"RainToday\") == 'NA','No').otherwise(F.col(\"RainToday\")))\n",
        "inputted_weather = updatedraint.withColumn(\"RainTomorrow\",F.when(F.col(\"RainTomorrow\") == 'NA','No').otherwise(F.col(\"RainTomorrow\")))"
      ],
      "metadata": {
        "id": "REZw1ac0lCMf"
      },
      "execution_count": 10,
      "outputs": []
    },
    {
      "cell_type": "code",
      "source": [
        "for i in inputted_weather.columns:\n",
        "    count = inputted_weather.filter(inputted_weather[i] == 'NA').count()\n",
        "    print('Total null counts for',i,'are:',count)"
      ],
      "metadata": {
        "colab": {
          "base_uri": "https://localhost:8080/"
        },
        "id": "9W0UYT7blGLU",
        "outputId": "dd691168-2be9-49c6-aa74-c4849fb7b8da"
      },
      "execution_count": 11,
      "outputs": [
        {
          "output_type": "stream",
          "name": "stdout",
          "text": [
            "Total null counts for MinTemp are: 0\n",
            "Total null counts for MaxTemp are: 0\n",
            "Total null counts for Rainfall are: 0\n",
            "Total null counts for WindGustDir are: 0\n",
            "Total null counts for WindGustSpeed are: 0\n",
            "Total null counts for WindDir9am are: 0\n",
            "Total null counts for WindDir3pm are: 0\n",
            "Total null counts for WindSpeed9am are: 0\n",
            "Total null counts for WindSpeed3pm are: 0\n",
            "Total null counts for Humidity9am are: 0\n",
            "Total null counts for Humidity3pm are: 0\n",
            "Total null counts for Pressure9am are: 0\n",
            "Total null counts for Pressure3pm are: 0\n",
            "Total null counts for RainToday are: 0\n",
            "Total null counts for RainTomorrow are: 0\n"
          ]
        }
      ]
    },
    {
      "cell_type": "code",
      "source": [
        "numeric_col = ['MinTemp','MaxTemp','Rainfall','WindGustSpeed','WindSpeed9am','WindSpeed3pm','Humidity9am','Humidity3pm','Pressure9am','Humidity3pm','Humidity9am','Pressure3pm']"
      ],
      "metadata": {
        "id": "_yjJYvUOlI4e"
      },
      "execution_count": 12,
      "outputs": []
    },
    {
      "cell_type": "code",
      "source": [
        "for i in numeric_col:\n",
        "    inputted_weather = inputted_weather.withColumn(i, inputted_weather[i].cast(DoubleType()))"
      ],
      "metadata": {
        "id": "A8qOcQT4lMHj"
      },
      "execution_count": 13,
      "outputs": []
    },
    {
      "cell_type": "markdown",
      "source": [
        "#### Creating a pipeline and using StringIndexer and Onehotencoder "
      ],
      "metadata": {
        "id": "9t-k8CRLFuP1"
      }
    },
    {
      "cell_type": "code",
      "source": [
        "import pyspark\n",
        "from pyspark.ml import Pipeline\n",
        "from pyspark.ml.feature import StringIndexer, VectorAssembler\n",
        " \n",
        "from distutils.version import LooseVersion\n",
        " \n",
        "categoricalColumns = [\"WindGustDir\",\"WindDir9am\",\"WindDir3pm\",\"RainToday\",\"RainTomorrow\"]\n",
        "stages = [] # stages in Pipeline\n",
        "for categoricalCol in categoricalColumns:\n",
        "    # Category Indexing with StringIndexer\n",
        "    stringIndexer = StringIndexer(inputCol=categoricalCol, outputCol=categoricalCol + \"Index\")\n",
        "    # Use OneHotEncoder to convert categorical variables into binary SparseVectors\n",
        "    if LooseVersion(pyspark.__version__) < LooseVersion(\"3.0\"):\n",
        "        from pyspark.ml.feature import OneHotEncoderEstimator\n",
        "        encoder = OneHotEncoderEstimator(inputCols=[stringIndexer.getOutputCol()], outputCols=[categoricalCol + \"classVec\"])\n",
        "    else:\n",
        "        from pyspark.ml.feature import OneHotEncoder\n",
        "        encoder = OneHotEncoder(inputCols=[stringIndexer.getOutputCol()], outputCols=[categoricalCol + \"classVec\"])\n",
        "    stages += [stringIndexer, encoder]\n"
      ],
      "metadata": {
        "id": "NMYWr13UlQAO"
      },
      "execution_count": 14,
      "outputs": []
    },
    {
      "cell_type": "markdown",
      "source": [
        "#### Using vector assembler to join all the columns "
      ],
      "metadata": {
        "id": "CFMAzRQCF8zb"
      }
    },
    {
      "cell_type": "code",
      "source": [
        "assemblerInputs = [c + \"classVec\" for c in categoricalColumns] + numeric_col\n",
        "assembler = VectorAssembler(inputCols=assemblerInputs, outputCol=\"features\")\n",
        "stages += [assembler]"
      ],
      "metadata": {
        "id": "21Du0x1lldte"
      },
      "execution_count": 15,
      "outputs": []
    },
    {
      "cell_type": "code",
      "source": [
        "stages"
      ],
      "metadata": {
        "colab": {
          "base_uri": "https://localhost:8080/"
        },
        "id": "Iny1_XGrleU2",
        "outputId": "98482d9a-6680-40ec-d7f6-4758af091aa4"
      },
      "execution_count": 16,
      "outputs": [
        {
          "output_type": "execute_result",
          "data": {
            "text/plain": [
              "[StringIndexer_7a54230a9e19,\n",
              " OneHotEncoder_e46ddefc4825,\n",
              " StringIndexer_728dcc700763,\n",
              " OneHotEncoder_c7ffca6d6a0e,\n",
              " StringIndexer_a10bc86122ec,\n",
              " OneHotEncoder_def38810aeb2,\n",
              " StringIndexer_52c7f16a967e,\n",
              " OneHotEncoder_f1931ab329a2,\n",
              " StringIndexer_25bfad32c135,\n",
              " OneHotEncoder_1a703e664081,\n",
              " VectorAssembler_db8f9686015c]"
            ]
          },
          "metadata": {},
          "execution_count": 16
        }
      ]
    },
    {
      "cell_type": "markdown",
      "source": [
        "### Defining Decision so that we can further add that in pipeine"
      ],
      "metadata": {
        "id": "g-XvplmN68yl"
      }
    },
    {
      "cell_type": "code",
      "source": [
        "dt = DecisionTreeClassifier(labelCol='RainTomorrowIndex' , featuresCol=\"features\")"
      ],
      "metadata": {
        "id": "QG8fESGXlgFf"
      },
      "execution_count": 17,
      "outputs": []
    },
    {
      "cell_type": "markdown",
      "source": [
        "#### Listing all the parameters "
      ],
      "metadata": {
        "id": "CSJZE8At7KG4"
      }
    },
    {
      "cell_type": "code",
      "source": [
        "dtparamGrid = (ParamGridBuilder()\n",
        "               .addGrid(dt.impurity, [\"gini\",\"entropy\"])\n",
        "             .addGrid(dt.maxDepth, [5])\n",
        "             .addGrid(dt.maxBins, [5, 10, 15])\n",
        "             .addGrid(dt.minInfoGain, [0.0, 0.2, 0.4])\n",
        "             .build())"
      ],
      "metadata": {
        "id": "McxaqXG2liGO"
      },
      "execution_count": 18,
      "outputs": []
    },
    {
      "cell_type": "code",
      "source": [
        "dtevaluator = BinaryClassificationEvaluator().setLabelCol(\"RainTomorrowIndex\")"
      ],
      "metadata": {
        "id": "9tiEqw_slj1j"
      },
      "execution_count": 19,
      "outputs": []
    },
    {
      "cell_type": "markdown",
      "source": [
        "#### Defining the evaluator and number of folds for validation"
      ],
      "metadata": {
        "id": "GXihNL3O7R0b"
      }
    },
    {
      "cell_type": "code",
      "source": [
        "dtcv = CrossValidator(estimator = dt,\n",
        "                      estimatorParamMaps = dtparamGrid,\n",
        "                      evaluator = dtevaluator,\n",
        "                      numFolds = 4)"
      ],
      "metadata": {
        "id": "hfEd2NRIll1t"
      },
      "execution_count": 20,
      "outputs": []
    },
    {
      "cell_type": "code",
      "source": [
        "stages += [dtcv]"
      ],
      "metadata": {
        "id": "YsQK2mytln5q"
      },
      "execution_count": 21,
      "outputs": []
    },
    {
      "cell_type": "markdown",
      "source": [
        "#### Splitting the data "
      ],
      "metadata": {
        "id": "IDMaItqr7cMV"
      }
    },
    {
      "cell_type": "code",
      "source": [
        "(trainingData, testData) = inputted_weather.randomSplit([0.8, 0.2], seed=12345)"
      ],
      "metadata": {
        "id": "Qq5Zrw9mlprV"
      },
      "execution_count": 22,
      "outputs": []
    },
    {
      "cell_type": "markdown",
      "source": [
        "#### Running the pipeline after assigning all the stages "
      ],
      "metadata": {
        "id": "bpgcths47gBQ"
      }
    },
    {
      "cell_type": "code",
      "source": [
        "\n",
        "  \n",
        "partialPipeline = Pipeline().setStages(stages)\n",
        "pipelineModel = partialPipeline.fit(trainingData)\n",
        "preppedDataDF = pipelineModel.transform(testData)"
      ],
      "metadata": {
        "id": "heS3O6selrZE"
      },
      "execution_count": 23,
      "outputs": []
    },
    {
      "cell_type": "markdown",
      "source": [
        "#### Here I wanted to extract the best parameter used, so in the pipelined I defined the stage where hyperparameter tuning was done and then tried to extract the best parameters."
      ],
      "metadata": {
        "id": "DYTs_75m7p04"
      }
    },
    {
      "cell_type": "code",
      "source": [
        "model=pipelineModel.stages[-1].bestModel"
      ],
      "metadata": {
        "id": "5oxLPdDyraHw"
      },
      "execution_count": 25,
      "outputs": []
    },
    {
      "cell_type": "markdown",
      "source": [
        "#### Here we can see all the parameters in the best model selected,\n",
        "- impurity    - \"gini\"\n",
        "- maxDepth    - \"5\"\n",
        "- maxBins     - \"5\"\n",
        "- minInfoGain - \"0.0\"\n",
        "\n",
        "<br>\n",
        "\n",
        "We can also look at other parameters as well. "
      ],
      "metadata": {
        "id": "FFxwsLPE75OB"
      }
    },
    {
      "cell_type": "code",
      "source": [
        "model.extractParamMap()"
      ],
      "metadata": {
        "colab": {
          "base_uri": "https://localhost:8080/"
        },
        "id": "ffn0h0YmqEsB",
        "outputId": "8d5777df-c4fd-4dc5-bdbf-33b5d6cfc83d"
      },
      "execution_count": 26,
      "outputs": [
        {
          "output_type": "execute_result",
          "data": {
            "text/plain": [
              "{Param(parent='DecisionTreeClassifier_31886e9e93c6', name='cacheNodeIds', doc='If false, the algorithm will pass trees to executors to match instances with nodes. If true, the algorithm will cache node IDs for each instance. Caching can speed up training of deeper trees. Users can set how often should the cache be checkpointed or disable it by setting checkpointInterval.'): False,\n",
              " Param(parent='DecisionTreeClassifier_31886e9e93c6', name='checkpointInterval', doc='set checkpoint interval (>= 1) or disable checkpoint (-1). E.g. 10 means that the cache will get checkpointed every 10 iterations. Note: this setting will be ignored if the checkpoint directory is not set in the SparkContext.'): 10,\n",
              " Param(parent='DecisionTreeClassifier_31886e9e93c6', name='featuresCol', doc='features column name.'): 'features',\n",
              " Param(parent='DecisionTreeClassifier_31886e9e93c6', name='impurity', doc='Criterion used for information gain calculation (case-insensitive). Supported options: entropy, gini'): 'gini',\n",
              " Param(parent='DecisionTreeClassifier_31886e9e93c6', name='labelCol', doc='label column name.'): 'RainTomorrowIndex',\n",
              " Param(parent='DecisionTreeClassifier_31886e9e93c6', name='leafCol', doc='Leaf indices column name. Predicted leaf index of each instance in each tree by preorder.'): '',\n",
              " Param(parent='DecisionTreeClassifier_31886e9e93c6', name='maxBins', doc='Max number of bins for discretizing continuous features.  Must be >=2 and >= number of categories for any categorical feature.'): 5,\n",
              " Param(parent='DecisionTreeClassifier_31886e9e93c6', name='maxDepth', doc='Maximum depth of the tree. (>= 0) E.g., depth 0 means 1 leaf node; depth 1 means 1 internal node + 2 leaf nodes. Must be in range [0, 30].'): 5,\n",
              " Param(parent='DecisionTreeClassifier_31886e9e93c6', name='maxMemoryInMB', doc='Maximum memory in MB allocated to histogram aggregation. If too small, then 1 node will be split per iteration, and its aggregates may exceed this size.'): 256,\n",
              " Param(parent='DecisionTreeClassifier_31886e9e93c6', name='minInfoGain', doc='Minimum information gain for a split to be considered at a tree node.'): 0.0,\n",
              " Param(parent='DecisionTreeClassifier_31886e9e93c6', name='minInstancesPerNode', doc='Minimum number of instances each child must have after split. If a split causes the left or right child to have fewer than minInstancesPerNode, the split will be discarded as invalid. Should be >= 1.'): 1,\n",
              " Param(parent='DecisionTreeClassifier_31886e9e93c6', name='minWeightFractionPerNode', doc='Minimum fraction of the weighted sample count that each child must have after split. If a split causes the fraction of the total weight in the left or right child to be less than minWeightFractionPerNode, the split will be discarded as invalid. Should be in interval [0.0, 0.5).'): 0.0,\n",
              " Param(parent='DecisionTreeClassifier_31886e9e93c6', name='predictionCol', doc='prediction column name.'): 'prediction',\n",
              " Param(parent='DecisionTreeClassifier_31886e9e93c6', name='probabilityCol', doc='Column name for predicted class conditional probabilities. Note: Not all models output well-calibrated probability estimates! These probabilities should be treated as confidences, not precise probabilities.'): 'probability',\n",
              " Param(parent='DecisionTreeClassifier_31886e9e93c6', name='rawPredictionCol', doc='raw prediction (a.k.a. confidence) column name.'): 'rawPrediction',\n",
              " Param(parent='DecisionTreeClassifier_31886e9e93c6', name='seed', doc='random seed.'): 2432184080892583238}"
            ]
          },
          "metadata": {},
          "execution_count": 26
        }
      ]
    },
    {
      "cell_type": "code",
      "source": [
        "preds = preppedDataDF.select('RainTomorrowIndex','probability').rdd.map(lambda row: (float(row['probability'][1]), float(row['RainTomorrowIndex'])))"
      ],
      "metadata": {
        "id": "63T846jICs26"
      },
      "execution_count": 28,
      "outputs": []
    },
    {
      "cell_type": "code",
      "source": [
        "metrics = BinaryClassificationMetrics(preds)\n"
      ],
      "metadata": {
        "colab": {
          "base_uri": "https://localhost:8080/"
        },
        "id": "p46x9jm9ScwF",
        "outputId": "4c4aa6be-2c5e-43a1-c49d-c94e3c45192b"
      },
      "execution_count": 30,
      "outputs": [
        {
          "output_type": "stream",
          "name": "stderr",
          "text": [
            "/usr/local/lib/python3.7/dist-packages/pyspark/sql/context.py:127: FutureWarning: Deprecated in 3.0.0. Use SparkSession.builder.getOrCreate() instead.\n",
            "  FutureWarning\n"
          ]
        }
      ]
    },
    {
      "cell_type": "markdown",
      "source": [
        "Calculating the area under ROC and AUC score which are bulit in functions already."
      ],
      "metadata": {
        "id": "MFvvUbAxTQba"
      }
    },
    {
      "cell_type": "code",
      "source": [
        "print(\"Area under PR = %s\" % metrics.areaUnderPR)"
      ],
      "metadata": {
        "colab": {
          "base_uri": "https://localhost:8080/"
        },
        "id": "pzgiTD2JSjfa",
        "outputId": "afbbc8ae-be22-46f2-8248-bda33a1b07f1"
      },
      "execution_count": 31,
      "outputs": [
        {
          "output_type": "stream",
          "name": "stdout",
          "text": [
            "Area under PR = 1.0\n"
          ]
        }
      ]
    },
    {
      "cell_type": "code",
      "source": [
        "print(\"Area under ROC = %s\" % metrics.areaUnderROC)"
      ],
      "metadata": {
        "colab": {
          "base_uri": "https://localhost:8080/"
        },
        "id": "fA8FG-mcSqpn",
        "outputId": "01e2e96a-e41c-4b00-9d22-e3444ce65eaa"
      },
      "execution_count": 32,
      "outputs": [
        {
          "output_type": "stream",
          "name": "stdout",
          "text": [
            "Area under ROC = 1.0\n"
          ]
        }
      ]
    },
    {
      "cell_type": "code",
      "source": [
        "metrics = CurveMetrics(preds)\n",
        "metrics.get_curve('fMeasureByThreshold')\n",
        "metrics.get_curve('precisionByThreshold')\n",
        "metrics.get_curve('recallByThreshold')"
      ],
      "metadata": {
        "colab": {
          "base_uri": "https://localhost:8080/"
        },
        "id": "BUUnpuR8EE2_",
        "outputId": "0dbf71db-7aa4-4af3-ad06-52d6c391c9b8"
      },
      "execution_count": 36,
      "outputs": [
        {
          "output_type": "stream",
          "name": "stderr",
          "text": [
            "/usr/local/lib/python3.7/dist-packages/pyspark/sql/context.py:127: FutureWarning: Deprecated in 3.0.0. Use SparkSession.builder.getOrCreate() instead.\n",
            "  FutureWarning\n"
          ]
        },
        {
          "output_type": "execute_result",
          "data": {
            "text/plain": [
              "[(1.0, 1.0), (0.0, 1.0)]"
            ]
          },
          "metadata": {},
          "execution_count": 36
        }
      ]
    },
    {
      "cell_type": "code",
      "source": [
        "preppedDataDF.show()"
      ],
      "metadata": {
        "colab": {
          "base_uri": "https://localhost:8080/"
        },
        "id": "yMPgl7egltCy",
        "outputId": "04853c7c-81a5-476a-8bf9-de0415d2b7d4"
      },
      "execution_count": 34,
      "outputs": [
        {
          "output_type": "stream",
          "name": "stdout",
          "text": [
            "+-------+-------+--------+-----------+-------------+----------+----------+------------+------------+-----------+-----------+-----------+-----------+---------+------------+----------------+-------------------+---------------+------------------+---------------+------------------+--------------+-----------------+-----------------+--------------------+--------------------+-------------+-----------+----------+\n",
            "|MinTemp|MaxTemp|Rainfall|WindGustDir|WindGustSpeed|WindDir9am|WindDir3pm|WindSpeed9am|WindSpeed3pm|Humidity9am|Humidity3pm|Pressure9am|Pressure3pm|RainToday|RainTomorrow|WindGustDirIndex|WindGustDirclassVec|WindDir9amIndex|WindDir9amclassVec|WindDir3pmIndex|WindDir3pmclassVec|RainTodayIndex|RainTodayclassVec|RainTomorrowIndex|RainTomorrowclassVec|            features|rawPrediction|probability|prediction|\n",
            "+-------+-------+--------+-----------+-------------+----------+----------+------------+------------+-----------+-----------+-----------+-----------+---------+------------+----------------+-------------------+---------------+------------------+---------------+------------------+--------------+-----------------+-----------------+--------------------+--------------------+-------------+-----------+----------+\n",
            "|   -7.6|   -1.4|     5.8|        SSW|         31.0|       SSE|       SSE|        13.0|         4.0|       68.8|       80.0|     1017.7|     1015.3|      Yes|          No|             8.0|     (15,[8],[1.0])|            3.0|    (15,[3],[1.0])|            4.0|    (15,[4],[1.0])|           1.0|        (1,[],[])|              0.0|       (1,[0],[1.0])|(59,[8,18,34,46,4...|[90741.0,0.0]|  [1.0,0.0]|       0.0|\n",
            "|   -6.8|   14.5|     5.8|          S|         48.0|       NNE|         S|         7.0|        24.0|       68.8|       34.0|     1023.5|     1021.6|      Yes|          No|             5.0|     (15,[5],[1.0])|            8.0|    (15,[8],[1.0])|            2.0|    (15,[2],[1.0])|           1.0|        (1,[],[])|              0.0|       (1,[0],[1.0])|(59,[5,23,32,46,4...|[90741.0,0.0]|  [1.0,0.0]|       0.0|\n",
            "|   -6.7|   -0.6|     9.8|        WNW|         31.0|       WNW|       WNW|        15.0|        17.0|       82.0|       83.0|     1017.7|     1015.3|      Yes|          No|             9.0|     (15,[9],[1.0])|           14.0|   (15,[14],[1.0])|            6.0|    (15,[6],[1.0])|           1.0|        (1,[],[])|              0.0|       (1,[0],[1.0])|(59,[9,29,36,46,4...|[90741.0,0.0]|  [1.0,0.0]|       0.0|\n",
            "|   -6.7|   15.7|     0.0|         NW|         37.0|         N|        NW|         2.0|        24.0|       86.0|       31.0|     1026.3|     1022.0|       No|          No|            10.0|    (15,[10],[1.0])|            0.0|    (15,[0],[1.0])|           10.0|   (15,[10],[1.0])|           0.0|    (1,[0],[1.0])|              0.0|       (1,[0],[1.0])|(59,[10,15,40,45,...|[90741.0,0.0]|  [1.0,0.0]|       0.0|\n",
            "|   -6.5|   -2.0|     4.6|        WSW|         57.0|       SSW|        SE|        26.0|        18.6|       95.0|       51.5|     1017.7|     1015.3|      Yes|          No|             6.0|     (15,[6],[1.0])|           13.0|   (15,[13],[1.0])|            0.0|    (15,[0],[1.0])|           1.0|        (1,[],[])|              0.0|       (1,[0],[1.0])|(59,[6,28,30,46,4...|[90741.0,0.0]|  [1.0,0.0]|       0.0|\n",
            "|   -6.3|    4.1|     0.0|        ENE|         46.0|         E|       ENE|        24.0|        17.0|       88.0|       93.0|     1017.7|     1015.3|       No|         Yes|            11.0|    (15,[11],[1.0])|            2.0|    (15,[2],[1.0])|           13.0|   (15,[13],[1.0])|           0.0|    (1,[0],[1.0])|              1.0|           (1,[],[])|(59,[11,17,43,45,...|[0.0,25522.0]|  [0.0,1.0]|       1.0|\n",
            "|   -6.3|   11.1|     0.0|         SE|         22.0|         N|         S|         0.0|        13.0|       79.0|       47.0|     1025.9|     1023.8|       No|          No|             1.0|     (15,[1],[1.0])|            0.0|    (15,[0],[1.0])|            2.0|    (15,[2],[1.0])|           0.0|    (1,[0],[1.0])|              0.0|       (1,[0],[1.0])|(59,[1,15,32,45,4...|[90741.0,0.0]|  [1.0,0.0]|       0.0|\n",
            "|   -6.0|    9.1|     0.0|          W|         19.0|         S|        NW|         4.0|         6.0|       87.0|       48.0|     1022.5|     1020.4|       No|          No|             0.0|     (15,[0],[1.0])|            5.0|    (15,[5],[1.0])|           10.0|   (15,[10],[1.0])|           0.0|    (1,[0],[1.0])|              0.0|       (1,[0],[1.0])|(59,[0,20,40,45,4...|[90741.0,0.0]|  [1.0,0.0]|       0.0|\n",
            "|   -5.7|   13.0|     0.0|          N|         20.0|         N|         N|         0.0|        11.0|       87.0|       54.0|     1032.9|     1028.6|       No|          No|             2.0|     (15,[2],[1.0])|            0.0|    (15,[0],[1.0])|            7.0|    (15,[7],[1.0])|           0.0|    (1,[0],[1.0])|              0.0|       (1,[0],[1.0])|(59,[2,15,37,45,4...|[90741.0,0.0]|  [1.0,0.0]|       0.0|\n",
            "|   -5.6|    0.0|     0.0|         SW|         41.0|       SSW|       SSW|        11.0|         9.0|       99.0|       99.0|     1017.7|     1015.3|       No|          No|             7.0|     (15,[7],[1.0])|           13.0|   (15,[13],[1.0])|           12.0|   (15,[12],[1.0])|           0.0|    (1,[0],[1.0])|              0.0|       (1,[0],[1.0])|(59,[7,28,42,45,4...|[90741.0,0.0]|  [1.0,0.0]|       0.0|\n",
            "|   -5.6|   11.1|     0.0|        SSE|         30.0|       WNW|         S|         2.0|        19.0|       87.0|       43.0|     1027.8|     1027.4|       No|          No|             3.0|     (15,[3],[1.0])|           14.0|   (15,[14],[1.0])|            2.0|    (15,[2],[1.0])|           0.0|    (1,[0],[1.0])|              0.0|       (1,[0],[1.0])|(59,[3,29,32,45,4...|[90741.0,0.0]|  [1.0,0.0]|       0.0|\n",
            "|   -5.4|    2.2|     0.8|          W|         40.0|         N|        SE|        14.0|        18.6|       82.0|       35.0|     1017.7|     1015.3|       No|          No|             0.0|     (15,[0],[1.0])|            0.0|    (15,[0],[1.0])|            0.0|    (15,[0],[1.0])|           0.0|    (1,[0],[1.0])|              0.0|       (1,[0],[1.0])|(59,[0,15,30,45,4...|[90741.0,0.0]|  [1.0,0.0]|       0.0|\n",
            "|   -5.4|   12.4|     2.3|          W|         40.0|         N|         W|         0.0|         2.0|       93.0|       42.0|     1027.4|     1024.9|       No|          No|             0.0|     (15,[0],[1.0])|            0.0|    (15,[0],[1.0])|            1.0|    (15,[1],[1.0])|           0.0|    (1,[0],[1.0])|              0.0|       (1,[0],[1.0])|(59,[0,15,31,45,4...|[90741.0,0.0]|  [1.0,0.0]|       0.0|\n",
            "|   -5.4|   15.2|     0.0|         SE|         22.0|       NNW|       ENE|         4.0|         6.0|       87.0|       38.0|     1028.3|     1026.2|       No|          No|             1.0|     (15,[1],[1.0])|            9.0|    (15,[9],[1.0])|           13.0|   (15,[13],[1.0])|           0.0|    (1,[0],[1.0])|              0.0|       (1,[0],[1.0])|(59,[1,24,43,45,4...|[90741.0,0.0]|  [1.0,0.0]|       0.0|\n",
            "|   -5.3|   -0.1|     0.0|         SW|         63.0|        SW|       WSW|        35.0|        30.0|       82.0|       92.0|     1017.7|     1015.3|       No|          No|             7.0|     (15,[7],[1.0])|            6.0|    (15,[6],[1.0])|            3.0|    (15,[3],[1.0])|           0.0|    (1,[0],[1.0])|              0.0|       (1,[0],[1.0])|(59,[7,21,33,45,4...|[90741.0,0.0]|  [1.0,0.0]|       0.0|\n",
            "|   -5.3|    1.9|     0.0|        WSW|         70.0|        SW|       WSW|        35.0|        22.0|       96.0|       94.0|     1017.7|     1015.3|       No|          No|             6.0|     (15,[6],[1.0])|            6.0|    (15,[6],[1.0])|            3.0|    (15,[3],[1.0])|           0.0|    (1,[0],[1.0])|              0.0|       (1,[0],[1.0])|(59,[6,21,33,45,4...|[90741.0,0.0]|  [1.0,0.0]|       0.0|\n",
            "|   -5.3|    2.9|     2.2|          S|         67.0|         S|       SSE|        24.0|        13.0|       68.0|       56.0|     1017.7|     1015.3|      Yes|          No|             5.0|     (15,[5],[1.0])|            5.0|    (15,[5],[1.0])|            4.0|    (15,[4],[1.0])|           1.0|        (1,[],[])|              0.0|       (1,[0],[1.0])|(59,[5,20,34,46,4...|[90741.0,0.0]|  [1.0,0.0]|       0.0|\n",
            "|   -5.3|   11.1|     0.0|        WNW|         37.0|         N|       NNW|         0.0|        15.0|       89.0|       53.0|     1022.5|     1017.8|       No|         Yes|             9.0|     (15,[9],[1.0])|            0.0|    (15,[0],[1.0])|           14.0|   (15,[14],[1.0])|           0.0|    (1,[0],[1.0])|              1.0|           (1,[],[])|(59,[9,15,44,45,4...|[0.0,25522.0]|  [0.0,1.0]|       1.0|\n",
            "|   -5.3|   13.1|     0.0|         NW|         33.0|         N|       NNW|         4.0|        20.0|       94.0|       47.0|     1029.6|     1025.6|       No|          No|            10.0|    (15,[10],[1.0])|            0.0|    (15,[0],[1.0])|           14.0|   (15,[14],[1.0])|           0.0|    (1,[0],[1.0])|              0.0|       (1,[0],[1.0])|(59,[10,15,44,45,...|[90741.0,0.0]|  [1.0,0.0]|       0.0|\n",
            "|   -5.2|   -2.0|     0.0|          W|         40.0|         N|        SE|        14.0|        18.6|       84.0|       84.0|     1017.7|     1015.3|       No|          No|             0.0|     (15,[0],[1.0])|            0.0|    (15,[0],[1.0])|            0.0|    (15,[0],[1.0])|           0.0|    (1,[0],[1.0])|              0.0|       (1,[0],[1.0])|(59,[0,15,30,45,4...|[90741.0,0.0]|  [1.0,0.0]|       0.0|\n",
            "+-------+-------+--------+-----------+-------------+----------+----------+------------+------------+-----------+-----------+-----------+-----------+---------+------------+----------------+-------------------+---------------+------------------+---------------+------------------+--------------+-----------------+-----------------+--------------------+--------------------+-------------+-----------+----------+\n",
            "only showing top 20 rows\n",
            "\n"
          ]
        }
      ]
    },
    {
      "cell_type": "code",
      "source": [
        ""
      ],
      "metadata": {
        "id": "sZD3ccLJEysz"
      },
      "execution_count": null,
      "outputs": []
    }
  ]
}